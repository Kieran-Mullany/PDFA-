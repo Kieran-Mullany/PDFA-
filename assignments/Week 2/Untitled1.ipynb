{
 "cells": [
  {
   "cell_type": "code",
   "execution_count": 6,
   "id": "6f225309",
   "metadata": {},
   "outputs": [
    {
     "ename": "SyntaxError",
     "evalue": "(unicode error) 'unicodeescape' codec can't decode bytes in position 4-26: unknown Unicode character name (Temp/ipykernel_16332/101479891.py, line 2)",
     "output_type": "error",
     "traceback": [
      "\u001b[1;36m  File \u001b[1;32m\"C:\\Users\\Kieran\\AppData\\Local\\Temp/ipykernel_16332/101479891.py\"\u001b[1;36m, line \u001b[1;32m2\u001b[0m\n\u001b[1;33m    street = 'stra\\N{LATIN SMALL SHARP S}e'\u001b[0m\n\u001b[1;37m                                           ^\u001b[0m\n\u001b[1;31mSyntaxError\u001b[0m\u001b[1;31m:\u001b[0m (unicode error) 'unicodeescape' codec can't decode bytes in position 4-26: unknown Unicode character name\n"
     ]
    }
   ],
   "source": [
    "\n",
    "street = 'stra\\N{LATIN SMALL SHARP S}e'\n",
    "#check this for error!"
   ]
  },
  {
   "cell_type": "code",
   "execution_count": 2,
   "id": "e095cf60",
   "metadata": {},
   "outputs": [],
   "source": [
    "l = '\\u03b1'\n",
    "u = '\\u0391'"
   ]
  },
  {
   "cell_type": "code",
   "execution_count": 4,
   "id": "41bf92de",
   "metadata": {},
   "outputs": [
    {
     "name": "stdout",
     "output_type": "stream",
     "text": [
      "α Α\n"
     ]
    }
   ],
   "source": [
    "print(l, u)"
   ]
  },
  {
   "cell_type": "code",
   "execution_count": 7,
   "id": "882d55a2",
   "metadata": {},
   "outputs": [
    {
     "data": {
      "text/plain": [
       "True"
      ]
     },
     "execution_count": 7,
     "metadata": {},
     "output_type": "execute_result"
    }
   ],
   "source": [
    "l.casefold() == u.casefold()"
   ]
  },
  {
   "cell_type": "code",
   "execution_count": 8,
   "id": "1c8c9a0c",
   "metadata": {},
   "outputs": [],
   "source": [
    "quote = \"Cast a cold eye on life on death, horsemen pass by, cast\""
   ]
  },
  {
   "cell_type": "code",
   "execution_count": 17,
   "id": "8322caca",
   "metadata": {},
   "outputs": [
    {
     "data": {
      "text/plain": [
       "0"
      ]
     },
     "execution_count": 17,
     "metadata": {},
     "output_type": "execute_result"
    }
   ],
   "source": [
    "quote.find(\"Cast\")"
   ]
  },
  {
   "cell_type": "code",
   "execution_count": 12,
   "id": "697ab4a4",
   "metadata": {},
   "outputs": [
    {
     "data": {
      "text/plain": [
       "-1"
      ]
     },
     "execution_count": 12,
     "metadata": {},
     "output_type": "execute_result"
    }
   ],
   "source": [
    "quote.find(\"abbra\")"
   ]
  },
  {
   "cell_type": "code",
   "execution_count": 23,
   "id": "0da125dd",
   "metadata": {},
   "outputs": [
    {
     "ename": "ValueError",
     "evalue": "substring not found",
     "output_type": "error",
     "traceback": [
      "\u001b[1;31m---------------------------------------------------------------------------\u001b[0m",
      "\u001b[1;31mValueError\u001b[0m                                Traceback (most recent call last)",
      "\u001b[1;32m~\\AppData\\Local\\Temp/ipykernel_16332/2416848615.py\u001b[0m in \u001b[0;36m<module>\u001b[1;34m\u001b[0m\n\u001b[1;32m----> 1\u001b[1;33m \u001b[0mquote\u001b[0m\u001b[1;33m.\u001b[0m\u001b[0mindex\u001b[0m\u001b[1;33m(\u001b[0m\u001b[1;34m'cast'\u001b[0m\u001b[1;33m,\u001b[0m \u001b[1;36m1\u001b[0m \u001b[1;33m+\u001b[0m \u001b[0mlen\u001b[0m\u001b[1;33m(\u001b[0m\u001b[1;34m'cast'\u001b[0m\u001b[1;33m)\u001b[0m\u001b[1;33m)\u001b[0m\u001b[1;33m\u001b[0m\u001b[1;33m\u001b[0m\u001b[0m\n\u001b[0m",
      "\u001b[1;31mValueError\u001b[0m: substring not found"
     ]
    }
   ],
   "source": [
    "quote.index('cast', 1 + len('cast'))"
   ]
  },
  {
   "cell_type": "code",
   "execution_count": 15,
   "id": "626cbb61",
   "metadata": {},
   "outputs": [
    {
     "data": {
      "text/plain": [
       "True"
      ]
     },
     "execution_count": 15,
     "metadata": {},
     "output_type": "execute_result"
    }
   ],
   "source": [
    "'Python rocks'.casefold().endswith('Rocks'.casefold())"
   ]
  },
  {
   "cell_type": "code",
   "execution_count": 24,
   "id": "02f62f31",
   "metadata": {},
   "outputs": [],
   "source": [
    "message = 'To every action there is always an equal and opposite reaction.' '"
   ]
  },
  {
   "cell_type": "code",
   "execution_count": 25,
   "id": "7fcfc24e",
   "metadata": {},
   "outputs": [
    {
     "data": {
      "text/plain": [
       "9"
      ]
     },
     "execution_count": 25,
     "metadata": {},
     "output_type": "execute_result"
    }
   ],
   "source": [
    "message.index('action')"
   ]
  },
  {
   "cell_type": "code",
   "execution_count": 26,
   "id": "84639040",
   "metadata": {},
   "outputs": [],
   "source": [
    "?str.index"
   ]
  },
  {
   "cell_type": "code",
   "execution_count": 27,
   "id": "5de17c81",
   "metadata": {},
   "outputs": [
    {
     "data": {
      "text/plain": [
       "56"
      ]
     },
     "execution_count": 27,
     "metadata": {},
     "output_type": "execute_result"
    }
   ],
   "source": [
    "message.index('action', 9 + len('action'))"
   ]
  },
  {
   "cell_type": "code",
   "execution_count": 28,
   "id": "cb040a7d",
   "metadata": {},
   "outputs": [
    {
     "data": {
      "text/plain": [
       "'a'"
      ]
     },
     "execution_count": 28,
     "metadata": {},
     "output_type": "execute_result"
    }
   ],
   "source": [
    "message[56]"
   ]
  },
  {
   "cell_type": "code",
   "execution_count": 29,
   "id": "51c11088",
   "metadata": {},
   "outputs": [],
   "source": [
    "message = 'Imagination is more important than knowledge - Einstein'"
   ]
  },
  {
   "cell_type": "code",
   "execution_count": 32,
   "id": "aa1a0933",
   "metadata": {},
   "outputs": [
    {
     "ename": "NameError",
     "evalue": "name 'timeit' is not defined",
     "output_type": "error",
     "traceback": [
      "\u001b[1;31m---------------------------------------------------------------------------\u001b[0m",
      "\u001b[1;31mNameError\u001b[0m                                 Traceback (most recent call last)",
      "\u001b[1;32m~\\AppData\\Local\\Temp/ipykernel_16332/2819381794.py\u001b[0m in \u001b[0;36m<module>\u001b[1;34m\u001b[0m\n\u001b[0;32m      1\u001b[0m \u001b[1;32mimport\u001b[0m \u001b[0mtime\u001b[0m\u001b[1;33m\u001b[0m\u001b[1;33m\u001b[0m\u001b[0m\n\u001b[1;32m----> 2\u001b[1;33m \u001b[0mtimeit\u001b[0m\u001b[1;33m(\u001b[0m\u001b[1;34m\"'Einstein' in message\"\u001b[0m\u001b[1;33m,\u001b[0m \u001b[0mglobals\u001b[0m\u001b[1;33m=\u001b[0m\u001b[0mglobals\u001b[0m\u001b[1;33m(\u001b[0m\u001b[1;33m)\u001b[0m\u001b[1;33m,\u001b[0m \u001b[0mnumber\u001b[0m\u001b[1;33m=\u001b[0m\u001b[1;36m10_000_000\u001b[0m\u001b[1;33m)\u001b[0m\u001b[1;33m\u001b[0m\u001b[1;33m\u001b[0m\u001b[0m\n\u001b[0m",
      "\u001b[1;31mNameError\u001b[0m: name 'timeit' is not defined"
     ]
    }
   ],
   "source": [
    "import time\n",
    "timeit(\"'Einstein' in message\", globals=globals(), number=10_000_000)"
   ]
  },
  {
   "cell_type": "code",
   "execution_count": null,
   "id": "5b51e65b",
   "metadata": {},
   "outputs": [],
   "source": []
  }
 ],
 "metadata": {
  "kernelspec": {
   "display_name": "Python 3 (ipykernel)",
   "language": "python",
   "name": "python3"
  },
  "language_info": {
   "codemirror_mode": {
    "name": "ipython",
    "version": 3
   },
   "file_extension": ".py",
   "mimetype": "text/x-python",
   "name": "python",
   "nbconvert_exporter": "python",
   "pygments_lexer": "ipython3",
   "version": "3.9.7"
  }
 },
 "nbformat": 4,
 "nbformat_minor": 5
}
