{
 "cells": [
  {
   "cell_type": "code",
   "execution_count": 2,
   "metadata": {},
   "outputs": [],
   "source": [
    "import numpy as np\n",
    "import pandas as pd"
   ]
  },
  {
   "cell_type": "markdown",
   "metadata": {},
   "source": [
    "\n",
    "Risk\n",
    "\n",
    "I love the board game Risk.\n",
    "\n",
    "Write a program (or notebook) called assignment_5_risk (.py or .ipynb)\n",
    "\n",
    "The program should simulates 1000 individual battle rounds in Risk (3 attacker vs 2 defender) and plots the result.\n",
    "\n",
    "One battle round is one shake of the attacker and defender dice.\n",
    "\n",
    "I am being vague about what it plot, I will leave that to you.\n",
    "\n",
    "For the last few marks.\n",
    "\n",
    "A more complicated version simulates a full series of rounds for armies of arbitrary sizes, until one side is wiped out,\n",
    "\n",
    "and plots the results.\n",
    "\n",
    "(This is open ended, so it is only for the last few marks)\n",
    "\n",
    "Rules of Risk\n",
    "\n",
    "In Risk one army fights another. (using 6 sided dice)\n",
    "\n",
    "In each battle round, the attacker can put forward up to three of their troops (3 dice).\n",
    "\n",
    "The defender can use up to two of their defending troops (2 dice).\n",
    "\n",
    "Each side looses troops depending on the following rules:\n",
    "\n",
    "    The two top dice dice are compared (ie the attackers top dice roll with the defenders top dice roll) \n",
    "        If the attackers dice is the same or lower they loose one troop otherwise the defender looses a troop (ie if the attackers dice is higher)\n",
    "    The next two highest dice from each side are then compared (ie the attackers second highest to the defenders second highest)\n",
    "        If the attackers dice is the same or lower they loose one troop otherwise the defender looses a troop (ie if the attackers dice is higher)\n"
   ]
  },
  {
   "cell_type": "code",
   "execution_count": 4,
   "metadata": {},
   "outputs": [
    {
     "data": {
      "text/plain": [
       "5"
      ]
     },
     "execution_count": 4,
     "metadata": {},
     "output_type": "execute_result"
    }
   ],
   "source": [
    "import random\n",
    "random.randint(1,6)"
   ]
  },
  {
   "cell_type": "code",
   "execution_count": 13,
   "metadata": {},
   "outputs": [
    {
     "name": "stdout",
     "output_type": "stream",
     "text": [
      "[5, 3, 2]\n"
     ]
    }
   ],
   "source": [
    "attacker = []\n",
    "for x in range(3):\n",
    "    attacker.append(random.randint(1,6))\n",
    "print(attacker)"
   ]
  },
  {
   "cell_type": "code",
   "execution_count": 17,
   "metadata": {},
   "outputs": [
    {
     "name": "stdout",
     "output_type": "stream",
     "text": [
      "[6, 3]\n"
     ]
    }
   ],
   "source": [
    "defender = []\n",
    "for x in range(2):\n",
    "    defender.append(random.randint(1,6))\n",
    "    defender.sort(reverse=True)\n",
    "print(defender)\n"
   ]
  },
  {
   "cell_type": "code",
   "execution_count": null,
   "metadata": {},
   "outputs": [
    {
     "ename": "SyntaxError",
     "evalue": "unterminated string literal (detected at line 9) (262138673.py, line 9)",
     "output_type": "error",
     "traceback": [
      "\u001b[1;36m  Cell \u001b[1;32mIn[24], line 9\u001b[1;36m\u001b[0m\n\u001b[1;33m    print(f\"defender: {defender_score}, attacker:  {attacker_score})\u001b[0m\n\u001b[1;37m          ^\u001b[0m\n\u001b[1;31mSyntaxError\u001b[0m\u001b[1;31m:\u001b[0m unterminated string literal (detected at line 9)\n"
     ]
    }
   ],
   "source": [
    "attacker_score = 0\n",
    "defender_score = 0\n",
    "for i in range(2):\n",
    "    if attacker[i] <= defender[i]:\n",
    "       attacker_score += 1 \n",
    "    else:\n",
    "        defender_score += 1    \n",
    "\n",
    "#print(f\"defender: {defender_score}, attacker:  {attacker_score})\n",
    "print(attacker_score, defender_score)"
   ]
  },
  {
   "cell_type": "code",
   "execution_count": null,
   "metadata": {},
   "outputs": [
    {
     "name": "stdout",
     "output_type": "stream",
     "text": [
      "1098 902\n"
     ]
    },
    {
     "data": {
      "text/plain": [
       "([<matplotlib.patches.Wedge at 0x189c8640e10>,\n",
       "  <matplotlib.patches.Wedge at 0x189c86e1ad0>],\n",
       " [Text(-0.1686640555227267, 1.0869923810103854, 'attackers'),\n",
       "  Text(0.16866415055062187, -1.0869923662653005, 'defenders')])"
      ]
     },
     "execution_count": 4,
     "metadata": {},
     "output_type": "execute_result"
    },
    {
     "data": {
      "image/png": "[encoded data removed]",
      "text/plain": [
       "<Figure size 640x480 with 1 Axes>"
      ]
     },
     "metadata": {},
     "output_type": "display_data"
    }
   ],
   "source": [
    "# All together - See how it runs for loop of 1_000\n",
    "import matplotlib.pyplot as plt\n",
    "import random\n",
    "import numpy as np\n",
    "\n",
    "attacker = []\n",
    "defender = []\n",
    "attacker_score = 0\n",
    "defender_score = 0\n",
    "\n",
    "for n in range(1000):\n",
    "    attacker = []\n",
    "    defender = []\n",
    "    for x in range(3):\n",
    "        attacker.append(random.randint(1,6))\n",
    "        attacker.sort(reverse=True)\n",
    "\n",
    "    for y in range(2):\n",
    "        defender.append(random.randint(1,6))\n",
    "        defender.sort(reverse=True)\n",
    "\n",
    "    for i in range(2):\n",
    "        if attacker[i] <= defender[i]:\n",
    "            defender_score += 1 \n",
    "        else:\n",
    "            attacker_score += 1    \n",
    "    \n",
    "\n",
    "#print(f\"defender: {defender_score}, attacker:  {attacker_score})\n",
    "print(attacker_score, defender_score)\n",
    "totals = np.array([int(attacker_score), int(defender_score)])\n",
    "labels = [\"attackers\", \"defenders\"]\n",
    "fig, ax = plt.subplots()\n",
    "ax.pie(totals, labels=labels)\n",
    "\n",
    "\n",
    "#plt.pie(attacker_score, defender_score)\n",
    "#plt.pie(np.array([int(attacker_score), int(defender_score)]))"
   ]
  },
  {
   "cell_type": "code",
   "execution_count": 10,
   "metadata": {},
   "outputs": [
    {
     "name": "stdout",
     "output_type": "stream",
     "text": [
      "Opening Strength:\n",
      "Attackers:\tDefenders:\n",
      "6396 \t 8404\n",
      "Attackers defeated !!!\n",
      "7574 6396\n",
      "0 830\n",
      "[6, 5, 4] [6, 6]\n"
     ]
    },
    {
     "data": {
      "image/png": "[encoded data removed]",
      "text/plain": [
       "<Figure size 640x480 with 1 Axes>"
      ]
     },
     "metadata": {},
     "output_type": "display_data"
    }
   ],
   "source": [
    "# All together - See how it runs for loop of 1_000\n",
    "\n",
    "# Armies of Arbitary Size - Attempt 1 - I'll hard code numbers to see if works til one army wiped out\n",
    "\n",
    "#########################################################################\n",
    "import matplotlib.pyplot as plt\n",
    "import random\n",
    "import numpy as np\n",
    "\n",
    "attacker_total = []\n",
    "defender_total = []\n",
    "attacker_score = 0\n",
    "defender_score = 0\n",
    "attacker_strength = random.randint(100, 10000)\n",
    "defender_strength = random.randint(100, 10000)\n",
    "\n",
    "print(\"Opening Strength:\\nAttackers:\\tDefenders:\")\n",
    "print(attacker_strength,\"\\t\", defender_strength)\n",
    "\n",
    "while(attacker_strength > 0 and defender_strength > 0):\n",
    "    for n in range(1000):\n",
    "        attacker = []\n",
    "        defender = []\n",
    "    for x in range(3):\n",
    "        attacker.append(random.randint(1,6))\n",
    "        attacker.sort(reverse=True)\n",
    "\n",
    "    for y in range(2):\n",
    "        defender.append(random.randint(1,6))\n",
    "        defender.sort(reverse=True)\n",
    "\n",
    "    for i in range(2):\n",
    "        if attacker[i] <= defender[i]:\n",
    "            defender_score += 1\n",
    "            attacker_strength -= 1\n",
    "            if attacker_strength == 0:\n",
    "                print(\"Attackers defeated !!!\")\n",
    "                break \n",
    "        else:\n",
    "            attacker_score += 1    \n",
    "            defender_strength -= 1\n",
    "            if defender_strength == 0:\n",
    "                print(\"Defenders defeated !!!\")\n",
    "                break\n",
    "\n",
    "    attacker_total.append(attacker)\n",
    "    defender_total.append(defender)\n",
    "\n",
    "#print(f\"defender: {defender_score}, attacker:  {attacker_score})\n",
    "print(attacker_score, defender_score)\n",
    "print(attacker_strength, defender_strength)\n",
    "\n",
    "# To see the breakdown of scores\n",
    "print(attacker_total[-1], defender_total[-1])\n",
    "\n",
    "totals = np.array([int(attacker_score), int(defender_score)])\n",
    "opening_positions = np.array([int(attacker_strength), int(defender_strength)])\n",
    "labels = [\"attackers\", \"defenders\"]\n",
    "fig, ax = plt.subplots()\n",
    "ax.pie(totals, labels=labels)\n",
    "#ax.hist(opening_positions)\n",
    "plt.show()\n",
    "\n",
    "\n"
   ]
  },
  {
   "cell_type": "code",
   "execution_count": null,
   "metadata": {},
   "outputs": [],
   "source": [
    " # def die_roll(x, ):\n",
    "\n",
    "# can i make a function - can call def or attacker - maybe a key word like true for attacker ??"
   ]
  }
 ],
 "metadata": {
  "kernelspec": {
   "display_name": "Python 3",
   "language": "python",
   "name": "python3"
  },
  "language_info": {
   "codemirror_mode": {
    "name": "ipython",
    "version": 3
   },
   "file_extension": ".py",
   "mimetype": "text/x-python",
   "name": "python",
   "nbconvert_exporter": "python",
   "pygments_lexer": "ipython3",
   "version": "3.11.4"
  }
 },
 "nbformat": 4,
 "nbformat_minor": 2
}
